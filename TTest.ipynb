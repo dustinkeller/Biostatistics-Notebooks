{
  "nbformat": 4,
  "nbformat_minor": 0,
  "metadata": {
    "colab": {
      "provenance": [],
      "collapsed_sections": [
        "9rIAoEy3y_6w",
        "5CsAxzvqyn9h"
      ]
    },
    "kernelspec": {
      "name": "python3",
      "display_name": "Python 3"
    },
    "language_info": {
      "name": "python"
    }
  },
  "cells": [
    {
      "cell_type": "markdown",
      "source": [
        "# TTest"
      ],
      "metadata": {
        "id": "coa94fhQqRAZ"
      }
    },
    {
      "cell_type": "markdown",
      "source": [
        "#Import Libraries"
      ],
      "metadata": {
        "id": "9rIAoEy3y_6w"
      }
    },
    {
      "cell_type": "code",
      "execution_count": null,
      "metadata": {
        "id": "3186yzxGqLvQ"
      },
      "outputs": [],
      "source": [
        "import numpy as np\n",
        "import pandas as pd\n",
        "from pandas.api.types import is_numeric_dtype\n",
        "\n",
        "from scipy import stats\n",
        "import matplotlib.pyplot as plt\n",
        "\n",
        "import ipywidgets as widgets\n",
        "from IPython.display import display\n",
        "\n",
        "from google.colab import drive\n",
        "drive.mount('/content/drive')"
      ]
    },
    {
      "cell_type": "markdown",
      "source": [
        "#Define Methods"
      ],
      "metadata": {
        "id": "5CsAxzvqyn9h"
      }
    },
    {
      "cell_type": "code",
      "source": [
        "#@title #Calculate Quantiles\n",
        "\n",
        "def calculateQuantiles(df, colA, colB):\n",
        "  quantiles = df.groupby(colA)[colB].quantile([0, 0.1, 0.25, 0.5, 0.75, 0.9, 1]).unstack(level=1)\n",
        "  quantiles.columns = [\n",
        "    'Minimum',\n",
        "    '10%',\n",
        "    '25%',\n",
        "    'Median',\n",
        "    '75%',\n",
        "    '90%',\n",
        "    'Maximum'\n",
        "  ]\n",
        "\n",
        "  return quantiles"
      ],
      "metadata": {
        "id": "9qkEXjuzzNH7"
      },
      "execution_count": null,
      "outputs": []
    },
    {
      "cell_type": "code",
      "source": [
        "#@title #Calculate Mean and Standard Deviation\n",
        "\n",
        "def calculateMeanStd(df, colA, colB, crit_val):\n",
        "  mean_std = df.groupby(colA)[colB].agg(['size', 'mean', 'std'])\n",
        "  mean_std['std_error_mean'] = mean_std['std'] / np.sqrt(mean_std['size'])\n",
        "  mean_std['lower_95'] = mean_std['mean'] - crit_val * mean_std['std_error_mean']\n",
        "  mean_std['upper_95'] = mean_std['mean'] + crit_val * mean_std['std_error_mean']\n",
        "  mean_std = mean_std.transpose()\n",
        "\n",
        "  return mean_std"
      ],
      "metadata": {
        "id": "ejgq6GXwzt-w"
      },
      "execution_count": null,
      "outputs": []
    },
    {
      "cell_type": "code",
      "source": [
        "#@title #Perform T-Test\n",
        "\n",
        "def ttest(df, colA, colB, groupA, groupB, confidence_level, crit_val):\n",
        "\n",
        "  group1 = df.loc[df[colA] == groupA, colB]\n",
        "  group2 = df.loc[df[colA] == groupB, colB]\n",
        "  t_statistic, p_value = stats.ttest_ind(group1, group2)\n",
        "  difference = np.mean(group1) - np.mean(group2)\n",
        "  std_error_diff = np.sqrt((np.var(group1) / (len(group1) - 1)) + (np.var(group2) / (len(group2) - 1)))\n",
        "  ci_upper = difference + crit_val * std_error_diff\n",
        "  ci_lower = difference - crit_val * std_error_diff\n",
        "\n",
        "  t_ratio = t_statistic\n",
        "  degrees_of_freedom = len(group1) + len(group2) - 2\n",
        "  two_tailed_p_value = p_value\n",
        "  right_tailed_p_value = p_value / 2\n",
        "  left_tailed_p_value = 1 - (p_value / 2)\n",
        "\n",
        "  t_test_results = pd.DataFrame({\n",
        "    'Difference': difference,\n",
        "    'Std Err Dif': std_error_diff, #\n",
        "    'Upper CL Dif': ci_upper, #\n",
        "    'Lower CL Dif': ci_lower, #\n",
        "    'Confidence': confidence_level,\n",
        "    't Ratio': t_ratio,\n",
        "    'DF': degrees_of_freedom,\n",
        "    'Prob > |t|': two_tailed_p_value,\n",
        "    'Prob > t': left_tailed_p_value,\n",
        "    'Prob < t': right_tailed_p_value\n",
        "  }, index=[0])\n",
        "\n",
        "  print(\"\\nT-Test Results:\")\n",
        "  print(t_test_results.iloc[0,:])\n",
        "  print()\n",
        "\n",
        "  # Create an array of x-values\n",
        "  x = np.linspace(-4, 4, 500)\n",
        "\n",
        "  # Calculate the probability density function (pdf) for the t-distribution\n",
        "  pdf = stats.t.pdf(x, degrees_of_freedom)\n",
        "\n",
        "  # Plotting the probability distribution\n",
        "  plt.figure(figsize=(10, 6))\n",
        "\n",
        "  # Plot the pdf\n",
        "  plt.plot(x, pdf, label='PDF')\n",
        "\n",
        "  # Fill the area where prob > |t|\n",
        "  plt.fill_between(x, pdf, where=np.abs(x) > np.abs(t_ratio), color='green', label='prob > |t|')\n",
        "\n",
        "  # Fill the area where prob < t\n",
        "  plt.fill_between(x, pdf, where=x < t_ratio, color='red', label='prob < t')\n",
        "\n",
        "  plt.legend()\n",
        "  plt.show()\n",
        "\n",
        "  return t_test_results\n"
      ],
      "metadata": {
        "id": "4wrmw9IF0SyJ",
        "cellView": "form"
      },
      "execution_count": null,
      "outputs": []
    },
    {
      "cell_type": "markdown",
      "source": [
        "#Menu"
      ],
      "metadata": {
        "id": "kE29adJUazek"
      }
    },
    {
      "cell_type": "code",
      "source": [
        "#@title #Download File and Select Data\n",
        "\n",
        "#@markdown Make sure the file containing the data you wish to analyze is in your google drive\n",
        "file_type = \"csv\" #@param [\"csv\", \"xlsx\"]\n",
        "file_name = 'Hotfas.csv' #@param [\"estradiol.csv\", \"Hot Dogs.xlsx\"] {type:\"string\", allow-input: true}\n",
        "# Hot Dogs.xlsx\n",
        "\n",
        "file_path = f\"/content/drive/MyDrive/{file_name}\"\n",
        "\n",
        "match file_type:\n",
        "  case \"csv\":\n",
        "    df = pd.read_csv(file_path)\n",
        "  case \"xlsx\":\n",
        "    df = pd.read_excel(file_path)\n",
        "\n",
        "#@markdown ---"
      ],
      "metadata": {
        "id": "2vUqSaKIy8HU"
      },
      "execution_count": null,
      "outputs": []
    },
    {
      "cell_type": "code",
      "source": [
        "#@title #Display Data\n",
        "\n",
        "classes_col = [col for col in df.columns if len(df[col].unique()) == 2]\n",
        "continuous_col = [col for col in df.columns if is_numeric_dtype(df[col])]\n",
        "INVALID = 'Invalid'\n",
        "\n",
        "if len(classes_col) == 0:\n",
        "  print('ERROR - Data MUST contain strictly 2 classes\\n')\n",
        "  classes_col = [INVALID]\n",
        "if len(continuous_col) == 0:\n",
        "  continuous_col = [INVALID]\n",
        "  print('ERROR - No continuous data found\\n')\n",
        "\n",
        "columnA_dropdown = widgets.Dropdown(\n",
        "    options=classes_col,\n",
        "    value=classes_col[0],\n",
        "    description='Classes:',\n",
        "    disabled=False,\n",
        ")\n",
        "\n",
        "columnB_dropdown = widgets.Dropdown(\n",
        "    options=continuous_col,\n",
        "    value=continuous_col[0],\n",
        "    description='Continous:',\n",
        "    disabled=False,\n",
        ")\n",
        "\n",
        "confidence_dropdown = widgets.Dropdown(\n",
        "    options=[0.90, 0.95, 0.99],\n",
        "    value=0.95,\n",
        "    description='CL:',\n",
        "    disabled=False,\n",
        ")\n",
        "\n",
        "@widgets.interact(colA = columnA_dropdown, colB = columnB_dropdown, confidence_level = confidence_dropdown)\n",
        "def user_selection(colA, colB, confidence_level):\n",
        "  if INVALID == colA or INVALID == colB:\n",
        "    return\n",
        "\n",
        "  groupA, groupB, *_ = df[colA].unique()\n",
        "\n",
        "  data_buttons = widgets.ToggleButtons(\n",
        "      options=['Data', 'Quantiles', 'Mean & STD', 'T-Test'],\n",
        "      description=' ',\n",
        "      disabled=False,\n",
        "      button_style='success', # 'success', 'info', 'warning', 'danger' or ''\n",
        "      # tooltips=['Description of slow', 'Description of regular', 'Description of fast'],\n",
        "  #     icons=['check'] * 3\n",
        "  )\n",
        "\n",
        "  alpha = 1-confidence_level\n",
        "  alpha /= 2\n",
        "  deg_free = df.shape[0]-1\n",
        "  crit_val = np.abs(stats.t.ppf(q=alpha, df=deg_free-1))\n",
        "  print(f\"\\nCritical Value: {crit_val}\\n\")\n",
        "\n",
        "  @widgets.interact(data = data_buttons)\n",
        "  def display_data(data):\n",
        "    try:\n",
        "      if colA != colB:\n",
        "        match data:\n",
        "\n",
        "          case 'Data':\n",
        "            grouped_data = df.groupby(colA)[colB].apply(list)\n",
        "            # Create a list of data values for each group\n",
        "            data_values = [grouped_data[group] for group in grouped_data.index]\n",
        "\n",
        "            # Plotting the box plot\n",
        "            plt.boxplot(data_values)\n",
        "\n",
        "            # Adding labels and title\n",
        "            plt.xlabel(colA)\n",
        "            plt.ylabel(colB)\n",
        "            plt.xticks(range(1, len(grouped_data.index) + 1), grouped_data.index)\n",
        "\n",
        "            print()\n",
        "            print(grouped_data,'\\n')\n",
        "            plt.show()\n",
        "\n",
        "          case 'Quantiles':\n",
        "            quantiles = calculateQuantiles(df, colA, colB)\n",
        "            print(\"\\nQuantiles Table:\\n\")\n",
        "            print(quantiles)\n",
        "\n",
        "          case 'Mean & STD':\n",
        "            mean_std = calculateMeanStd(df, colA, colB, crit_val)\n",
        "            print(\"\\nMean and Std. Dev. Table:\\n\")\n",
        "            print(mean_std)\n",
        "\n",
        "          case 'T-Test':\n",
        "            print(f'\\nGroup 1: {groupA}\\nGroup 2: {groupB}')\n",
        "            t_test_results = ttest(df, colA, colB, groupA, groupB, confidence_level, crit_val)\n",
        "\n",
        "    except Exception:\n",
        "      print(\"\\nInvalid Input\")\n",
        "      plt.close()\n"
      ],
      "metadata": {
        "id": "U2EbGoI-003m"
      },
      "execution_count": null,
      "outputs": []
    }
  ]
}